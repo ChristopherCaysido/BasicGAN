{
 "cells": [
  {
   "cell_type": "code",
   "execution_count": 5,
   "metadata": {},
   "outputs": [
    {
     "data": {
      "image/png": "[encoded data removed]",
      "text/plain": [
       "<Figure size 720x720 with 4 Axes>"
      ]
     },
     "metadata": {
      "needs_background": "light"
     },
     "output_type": "display_data"
    }
   ],
   "source": [
    "#Process of Creating a simple GAN\n",
    "#Scenario:\n",
    "#We want to generate a sad face 5x5 matrix\n",
    "import numpy as np\n",
    "from numpy import random\n",
    "from matplotlib import pyplot as plt\n",
    "\n",
    "#Plotting Function\n",
    "def view_samples(samples,m,n):\n",
    "    fig, axes = plt.subplots(figsize=(10,10), nrows=m, ncols=n, sharey=True, sharex=True)\n",
    "    for ax, img in zip(axes.flatten(),samples):\n",
    "        ax.xaxis.set_visible(False)\n",
    "        ax.yaxis.set_visible(False)\n",
    "        im = ax.imshow(1-img.reshape((5,5)), cmap='Greys_r')\n",
    "    return fig, axes\n",
    "\n",
    "faces = [np.array([0,0,0,0,0,\n",
    "                   0,1,0,1,0,\n",
    "                   0,0,0,0,0,\n",
    "                   0,1,1,1,0,\n",
    "                   1,0,0,0,1]),\n",
    "         np.array([0,0,0.10,0,0,\n",
    "                   0.1,1,0,1,0.1,\n",
    "                   0,0,0,0,0,\n",
    "                   0.1,1,1,1,0.1,\n",
    "                   1,0.1,0.1,0.1,1]),\n",
    "         np.array([0,0.2,0,0.2,0,\n",
    "                   0.2,1,0,1,0.2,\n",
    "                   0,0,0,0,0,\n",
    "                   0.2,1,1,1,0,\n",
    "                   1,0.2,0.2,0.2,1]),\n",
    "         np.array([0,0,0,0,0,\n",
    "                   0,1,0,1,0,\n",
    "                   0,0,0,0,0,\n",
    "                   0.4,1,1,1,0.4,\n",
    "                   1,0,0,0,1])]\n",
    "\n",
    "_ = view_samples(faces, 1,4)"
   ]
  },
  {
   "cell_type": "code",
   "execution_count": 6,
   "metadata": {},
   "outputs": [
    {
     "data": {
      "image/png": "[encoded data removed]",
      "text/plain": [
       "<Figure size 720x720 with 20 Axes>"
      ]
     },
     "metadata": {
      "needs_background": "light"
     },
     "output_type": "display_data"
    }
   ],
   "source": [
    "noise = [np.random.randn(5,5) for i in range(20)]\n",
    "def generate_noise():\n",
    "    return [np.random.random(), np.random.random(), np.random.random(), np.random.random()]\n",
    "\n",
    "_ = view_samples(noise, 5,4)"
   ]
  },
  {
   "cell_type": "code",
   "execution_count": 7,
   "metadata": {},
   "outputs": [],
   "source": [
    "def sigmoid(x):\n",
    "    return np.exp(x)/(1.0+np.exp(x))"
   ]
  },
  {
   "cell_type": "code",
   "execution_count": 15,
   "metadata": {},
   "outputs": [],
   "source": [
    "class Discriminator():\n",
    "    def __init__(self):\n",
    "        #self.weights = np.array([0.0 for i in range(4)])\n",
    "        #self.bias = 0.0\n",
    "        self.weights = np.array([np.random.normal() for i in range(25)])\n",
    "        self.bias = np.random.normal()\n",
    "    \n",
    "    def forward(self, x):\n",
    "        # Forward pass\n",
    "        return sigmoid(np.dot(x, self.weights) + self.bias)\n",
    "    \n",
    "    def error_from_image(self, image):\n",
    "        prediction = self.forward(image)\n",
    "        # We want the prediction to be 1, so the error is -log(prediction)\n",
    "        return -np.log(prediction)\n",
    "    \n",
    "    def derivatives_from_image(self, image):\n",
    "        prediction = self.forward(image)\n",
    "        derivatives_weights = -image * (1-prediction)\n",
    "        derivative_bias = -(1-prediction)\n",
    "        return derivatives_weights, derivative_bias\n",
    "    \n",
    "    def update_from_image(self, x):\n",
    "        ders = self.derivatives_from_image(x)\n",
    "        self.weights -= learning_rate * ders[0]\n",
    "        self.bias -= learning_rate * ders[1]\n",
    "\n",
    "    def error_from_noise(self, noise):\n",
    "        prediction = self.forward(noise)\n",
    "        # We want the prediction to be 0, so the error is -log(1-prediction)\n",
    "        return -np.log(1-prediction)\n",
    "    \n",
    "    def derivatives_from_noise(self, noise):\n",
    "        prediction = self.forward(noise)\n",
    "        derivatives_weights = noise * prediction\n",
    "        derivative_bias = prediction\n",
    "        return derivatives_weights, derivative_bias\n",
    "    \n",
    "    def update_from_noise(self, noise):\n",
    "        ders = self.derivatives_from_noise(noise)\n",
    "        self.weights -= learning_rate * ders[0]\n",
    "        self.bias -= learning_rate * ders[1]"
   ]
  },
  {
   "cell_type": "code",
   "execution_count": 9,
   "metadata": {},
   "outputs": [],
   "source": [
    "class Generator():\n",
    "    def __init__(self):\n",
    "        self.weights = np.array([np.random.normal() for i in range(25)])\n",
    "        self.biases = np.array([np.random.normal() for i in range(25)])\n",
    "\n",
    "    def forward(self, z):\n",
    "        # Forward pass\n",
    "        return sigmoid(z * self.weights + self.biases)\n",
    "\n",
    "    def error(self, z, discriminator):\n",
    "        x = self.forward(z)\n",
    "        # We want the prediction to be 0, so the error is -log(1-prediction)\n",
    "        y = discriminator.forward(x)\n",
    "        return -np.log(y)\n",
    "\n",
    "    def derivatives(self, z, discriminator):\n",
    "        discriminator_weights = discriminator.weights\n",
    "        discriminator_bias = discriminator.bias\n",
    "        x = self.forward(z)\n",
    "        y = discriminator.forward(x)\n",
    "        factor = -(1-y) * discriminator_weights * x *(1-x)\n",
    "        derivatives_weights = factor * z\n",
    "        derivative_bias = factor\n",
    "        return derivatives_weights, derivative_bias\n",
    "\n",
    "    def update(self, z, discriminator):\n",
    "        error_before = self.error(z, discriminator)\n",
    "        ders = self.derivatives(z, discriminator)\n",
    "        self.weights -= learning_rate * ders[0]\n",
    "        self.biases -= learning_rate * ders[1]\n",
    "        error_after = self.error(z, discriminator)"
   ]
  },
  {
   "cell_type": "code",
   "execution_count": 16,
   "metadata": {},
   "outputs": [
    {
     "ename": "ValueError",
     "evalue": "shapes (4,) and (25,) not aligned: 4 (dim 0) != 25 (dim 0)",
     "output_type": "error",
     "traceback": [
      "\u001b[1;31m---------------------------------------------------------------------------\u001b[0m",
      "\u001b[1;31mValueError\u001b[0m                                Traceback (most recent call last)",
      "\u001b[1;32m<ipython-input-16-4dc058fede40>\u001b[0m in \u001b[0;36m<module>\u001b[1;34m\u001b[0m\n\u001b[0;32m     28\u001b[0m \u001b[1;33m\u001b[0m\u001b[0m\n\u001b[0;32m     29\u001b[0m         \u001b[1;31m# Calculate the generator error\u001b[0m\u001b[1;33m\u001b[0m\u001b[1;33m\u001b[0m\u001b[1;33m\u001b[0m\u001b[0m\n\u001b[1;32m---> 30\u001b[1;33m         \u001b[0merrors_generator\u001b[0m\u001b[1;33m.\u001b[0m\u001b[0mappend\u001b[0m\u001b[1;33m(\u001b[0m\u001b[0mG\u001b[0m\u001b[1;33m.\u001b[0m\u001b[0merror\u001b[0m\u001b[1;33m(\u001b[0m\u001b[0mz\u001b[0m\u001b[1;33m,\u001b[0m \u001b[0mD\u001b[0m\u001b[1;33m)\u001b[0m\u001b[1;33m)\u001b[0m\u001b[1;33m\u001b[0m\u001b[1;33m\u001b[0m\u001b[0m\n\u001b[0m\u001b[0;32m     31\u001b[0m \u001b[1;33m\u001b[0m\u001b[0m\n\u001b[0;32m     32\u001b[0m         \u001b[1;31m# Build a fake face\u001b[0m\u001b[1;33m\u001b[0m\u001b[1;33m\u001b[0m\u001b[1;33m\u001b[0m\u001b[0m\n",
      "\u001b[1;32m<ipython-input-9-91470a99605c>\u001b[0m in \u001b[0;36merror\u001b[1;34m(self, z, discriminator)\u001b[0m\n\u001b[0;32m     11\u001b[0m         \u001b[0mx\u001b[0m \u001b[1;33m=\u001b[0m \u001b[0mself\u001b[0m\u001b[1;33m.\u001b[0m\u001b[0mforward\u001b[0m\u001b[1;33m(\u001b[0m\u001b[0mz\u001b[0m\u001b[1;33m)\u001b[0m\u001b[1;33m\u001b[0m\u001b[1;33m\u001b[0m\u001b[0m\n\u001b[0;32m     12\u001b[0m         \u001b[1;31m# We want the prediction to be 0, so the error is -log(1-prediction)\u001b[0m\u001b[1;33m\u001b[0m\u001b[1;33m\u001b[0m\u001b[1;33m\u001b[0m\u001b[0m\n\u001b[1;32m---> 13\u001b[1;33m         \u001b[0my\u001b[0m \u001b[1;33m=\u001b[0m \u001b[0mdiscriminator\u001b[0m\u001b[1;33m.\u001b[0m\u001b[0mforward\u001b[0m\u001b[1;33m(\u001b[0m\u001b[0mx\u001b[0m\u001b[1;33m)\u001b[0m\u001b[1;33m\u001b[0m\u001b[1;33m\u001b[0m\u001b[0m\n\u001b[0m\u001b[0;32m     14\u001b[0m         \u001b[1;32mreturn\u001b[0m \u001b[1;33m-\u001b[0m\u001b[0mnp\u001b[0m\u001b[1;33m.\u001b[0m\u001b[0mlog\u001b[0m\u001b[1;33m(\u001b[0m\u001b[0my\u001b[0m\u001b[1;33m)\u001b[0m\u001b[1;33m\u001b[0m\u001b[1;33m\u001b[0m\u001b[0m\n\u001b[0;32m     15\u001b[0m \u001b[1;33m\u001b[0m\u001b[0m\n",
      "\u001b[1;32m<ipython-input-15-617908ee5eaf>\u001b[0m in \u001b[0;36mforward\u001b[1;34m(self, x)\u001b[0m\n\u001b[0;32m      8\u001b[0m     \u001b[1;32mdef\u001b[0m \u001b[0mforward\u001b[0m\u001b[1;33m(\u001b[0m\u001b[0mself\u001b[0m\u001b[1;33m,\u001b[0m \u001b[0mx\u001b[0m\u001b[1;33m)\u001b[0m\u001b[1;33m:\u001b[0m\u001b[1;33m\u001b[0m\u001b[1;33m\u001b[0m\u001b[0m\n\u001b[0;32m      9\u001b[0m         \u001b[1;31m# Forward pass\u001b[0m\u001b[1;33m\u001b[0m\u001b[1;33m\u001b[0m\u001b[1;33m\u001b[0m\u001b[0m\n\u001b[1;32m---> 10\u001b[1;33m         \u001b[1;32mreturn\u001b[0m \u001b[0msigmoid\u001b[0m\u001b[1;33m(\u001b[0m\u001b[0mnp\u001b[0m\u001b[1;33m.\u001b[0m\u001b[0mdot\u001b[0m\u001b[1;33m(\u001b[0m\u001b[0mx\u001b[0m\u001b[1;33m,\u001b[0m \u001b[0mself\u001b[0m\u001b[1;33m.\u001b[0m\u001b[0mweights\u001b[0m\u001b[1;33m)\u001b[0m \u001b[1;33m+\u001b[0m \u001b[0mself\u001b[0m\u001b[1;33m.\u001b[0m\u001b[0mbias\u001b[0m\u001b[1;33m)\u001b[0m\u001b[1;33m\u001b[0m\u001b[1;33m\u001b[0m\u001b[0m\n\u001b[0m\u001b[0;32m     11\u001b[0m \u001b[1;33m\u001b[0m\u001b[0m\n\u001b[0;32m     12\u001b[0m     \u001b[1;32mdef\u001b[0m \u001b[0merror_from_image\u001b[0m\u001b[1;33m(\u001b[0m\u001b[0mself\u001b[0m\u001b[1;33m,\u001b[0m \u001b[0mimage\u001b[0m\u001b[1;33m)\u001b[0m\u001b[1;33m:\u001b[0m\u001b[1;33m\u001b[0m\u001b[1;33m\u001b[0m\u001b[0m\n",
      "\u001b[1;32m<__array_function__ internals>\u001b[0m in \u001b[0;36mdot\u001b[1;34m(*args, **kwargs)\u001b[0m\n",
      "\u001b[1;31mValueError\u001b[0m: shapes (4,) and (25,) not aligned: 4 (dim 0) != 25 (dim 0)"
     ]
    }
   ],
   "source": [
    "# Set random seed\n",
    "np.random.seed(42)\n",
    "\n",
    "# Hyperparameters\n",
    "learning_rate = 0.01\n",
    "epochs = 1000\n",
    "\n",
    "# The GAN\n",
    "D = Discriminator()\n",
    "G = Generator()\n",
    "\n",
    "# For the error plot\n",
    "errors_discriminator = []\n",
    "errors_generator = []\n",
    "\n",
    "for epoch in range(epochs):\n",
    "    \n",
    "    for face in faces:\n",
    "        \n",
    "        # Update the discriminator weights from the real face\n",
    "        D.update_from_image(face)\n",
    "    \n",
    "        # Pick a random number to generate a fake face\n",
    "        z = random.rand()\n",
    "\n",
    "        # Calculate the discriminator error\n",
    "        errors_discriminator.append(sum(D.error_from_image(face) + D.error_from_noise(z)))\n",
    "        \n",
    "        # Calculate the generator error\n",
    "        errors_generator.append(G.error(z, D))\n",
    "        \n",
    "        # Build a fake face\n",
    "        noise = G.forward(z)\n",
    "        \n",
    "        # Update the discriminator weights from the fake face\n",
    "        D.update_from_noise(noise)\n",
    "    \n",
    "        # Update the generator weights from the fake face\n",
    "        G.update(z, D)"
   ]
  },
  {
   "cell_type": "code",
   "execution_count": 11,
   "metadata": {},
   "outputs": [
    {
     "data": {
      "image/png": "[encoded data removed]",
      "text/plain": [
       "<Figure size 432x288 with 1 Axes>"
      ]
     },
     "metadata": {
      "needs_background": "light"
     },
     "output_type": "display_data"
    },
    {
     "data": {
      "text/plain": [
       "Text(0.5, 1.0, 'Discriminator error function')"
      ]
     },
     "execution_count": 11,
     "metadata": {},
     "output_type": "execute_result"
    },
    {
     "data": {
      "image/png": "[encoded data removed]",
      "text/plain": [
       "<Figure size 432x288 with 1 Axes>"
      ]
     },
     "metadata": {
      "needs_background": "light"
     },
     "output_type": "display_data"
    }
   ],
   "source": [
    "import matplotlib.pyplot as plt\n",
    "plt.plot(errors_generator)\n",
    "plt.title(\"Generator error function\")\n",
    "plt.legend(\"gen\")\n",
    "plt.show()\n",
    "plt.plot(errors_discriminator)\n",
    "plt.legend('disc')\n",
    "plt.title(\"Discriminator error function\")"
   ]
  },
  {
   "cell_type": "code",
   "execution_count": 12,
   "metadata": {},
   "outputs": [
    {
     "ename": "ValueError",
     "evalue": "cannot reshape array of size 4 into shape (5,5)",
     "output_type": "error",
     "traceback": [
      "\u001b[1;31m---------------------------------------------------------------------------\u001b[0m",
      "\u001b[1;31mValueError\u001b[0m                                Traceback (most recent call last)",
      "\u001b[1;32m<ipython-input-12-f09d6ae76876>\u001b[0m in \u001b[0;36m<module>\u001b[1;34m\u001b[0m\n\u001b[0;32m      4\u001b[0m     \u001b[0mgenerated_image\u001b[0m \u001b[1;33m=\u001b[0m \u001b[0mG\u001b[0m\u001b[1;33m.\u001b[0m\u001b[0mforward\u001b[0m\u001b[1;33m(\u001b[0m\u001b[0mz\u001b[0m\u001b[1;33m)\u001b[0m\u001b[1;33m\u001b[0m\u001b[1;33m\u001b[0m\u001b[0m\n\u001b[0;32m      5\u001b[0m     \u001b[0mgenerated_images\u001b[0m\u001b[1;33m.\u001b[0m\u001b[0mappend\u001b[0m\u001b[1;33m(\u001b[0m\u001b[0mgenerated_image\u001b[0m\u001b[1;33m)\u001b[0m\u001b[1;33m\u001b[0m\u001b[1;33m\u001b[0m\u001b[0m\n\u001b[1;32m----> 6\u001b[1;33m \u001b[0m_\u001b[0m \u001b[1;33m=\u001b[0m \u001b[0mview_samples\u001b[0m\u001b[1;33m(\u001b[0m\u001b[0mgenerated_images\u001b[0m\u001b[1;33m,\u001b[0m \u001b[1;36m1\u001b[0m\u001b[1;33m,\u001b[0m \u001b[1;36m4\u001b[0m\u001b[1;33m)\u001b[0m\u001b[1;33m\u001b[0m\u001b[1;33m\u001b[0m\u001b[0m\n\u001b[0m\u001b[0;32m      7\u001b[0m \u001b[1;32mfor\u001b[0m \u001b[0mi\u001b[0m \u001b[1;32min\u001b[0m \u001b[0mgenerated_images\u001b[0m\u001b[1;33m:\u001b[0m\u001b[1;33m\u001b[0m\u001b[1;33m\u001b[0m\u001b[0m\n\u001b[0;32m      8\u001b[0m     \u001b[0mprint\u001b[0m\u001b[1;33m(\u001b[0m\u001b[0mi\u001b[0m\u001b[1;33m)\u001b[0m\u001b[1;33m\u001b[0m\u001b[1;33m\u001b[0m\u001b[0m\n",
      "\u001b[1;32m<ipython-input-5-643c57db0e29>\u001b[0m in \u001b[0;36mview_samples\u001b[1;34m(samples, m, n)\u001b[0m\n\u001b[0;32m     12\u001b[0m         \u001b[0max\u001b[0m\u001b[1;33m.\u001b[0m\u001b[0mxaxis\u001b[0m\u001b[1;33m.\u001b[0m\u001b[0mset_visible\u001b[0m\u001b[1;33m(\u001b[0m\u001b[1;32mFalse\u001b[0m\u001b[1;33m)\u001b[0m\u001b[1;33m\u001b[0m\u001b[1;33m\u001b[0m\u001b[0m\n\u001b[0;32m     13\u001b[0m         \u001b[0max\u001b[0m\u001b[1;33m.\u001b[0m\u001b[0myaxis\u001b[0m\u001b[1;33m.\u001b[0m\u001b[0mset_visible\u001b[0m\u001b[1;33m(\u001b[0m\u001b[1;32mFalse\u001b[0m\u001b[1;33m)\u001b[0m\u001b[1;33m\u001b[0m\u001b[1;33m\u001b[0m\u001b[0m\n\u001b[1;32m---> 14\u001b[1;33m         \u001b[0mim\u001b[0m \u001b[1;33m=\u001b[0m \u001b[0max\u001b[0m\u001b[1;33m.\u001b[0m\u001b[0mimshow\u001b[0m\u001b[1;33m(\u001b[0m\u001b[1;36m1\u001b[0m\u001b[1;33m-\u001b[0m\u001b[0mimg\u001b[0m\u001b[1;33m.\u001b[0m\u001b[0mreshape\u001b[0m\u001b[1;33m(\u001b[0m\u001b[1;33m(\u001b[0m\u001b[1;36m5\u001b[0m\u001b[1;33m,\u001b[0m\u001b[1;36m5\u001b[0m\u001b[1;33m)\u001b[0m\u001b[1;33m)\u001b[0m\u001b[1;33m,\u001b[0m \u001b[0mcmap\u001b[0m\u001b[1;33m=\u001b[0m\u001b[1;34m'Greys_r'\u001b[0m\u001b[1;33m)\u001b[0m\u001b[1;33m\u001b[0m\u001b[1;33m\u001b[0m\u001b[0m\n\u001b[0m\u001b[0;32m     15\u001b[0m     \u001b[1;32mreturn\u001b[0m \u001b[0mfig\u001b[0m\u001b[1;33m,\u001b[0m \u001b[0maxes\u001b[0m\u001b[1;33m\u001b[0m\u001b[1;33m\u001b[0m\u001b[0m\n\u001b[0;32m     16\u001b[0m \u001b[1;33m\u001b[0m\u001b[0m\n",
      "\u001b[1;31mValueError\u001b[0m: cannot reshape array of size 4 into shape (5,5)"
     ]
    },
    {
     "data": {
      "image/png": "[encoded data removed]",
      "text/plain": [
       "<Figure size 720x720 with 4 Axes>"
      ]
     },
     "metadata": {
      "needs_background": "light"
     },
     "output_type": "display_data"
    }
   ],
   "source": [
    "generated_images = []\n",
    "for i in range(4):\n",
    "    z = random.random()\n",
    "    generated_image = G.forward(z)\n",
    "    generated_images.append(generated_image)\n",
    "_ = view_samples(generated_images, 1, 4)\n",
    "for i in generated_images:\n",
    "    print(i)"
   ]
  },
  {
   "cell_type": "code",
   "execution_count": 13,
   "metadata": {},
   "outputs": [
    {
     "name": "stdout",
     "output_type": "stream",
     "text": [
      "Generator weights [-0.23413696  1.57921282  0.76743473 -0.46947439]\n",
      "Generator biases [ 0.54256004 -0.46341769 -0.46572975  0.24196227]\n"
     ]
    }
   ],
   "source": [
    "print(\"Generator weights\", G.weights)\n",
    "print(\"Generator biases\", G.biases)"
   ]
  },
  {
   "cell_type": "code",
   "execution_count": 14,
   "metadata": {},
   "outputs": [
    {
     "name": "stdout",
     "output_type": "stream",
     "text": [
      "Discriminator weights [ 0.49671415 -0.1382643   0.64768854  1.52302986]\n",
      "Discriminator bias -0.23415337472333597\n"
     ]
    }
   ],
   "source": [
    "print(\"Discriminator weights\", D.weights)\n",
    "print(\"Discriminator bias\", D.bias)"
   ]
  },
  {
   "cell_type": "code",
   "execution_count": null,
   "metadata": {},
   "outputs": [],
   "source": []
  }
 ],
 "metadata": {
  "kernelspec": {
   "display_name": "Python 3",
   "language": "python",
   "name": "python3"
  },
  "language_info": {
   "codemirror_mode": {
    "name": "ipython",
    "version": 3
   },
   "file_extension": ".py",
   "mimetype": "text/x-python",
   "name": "python",
   "nbconvert_exporter": "python",
   "pygments_lexer": "ipython3",
   "version": "3.8.3"
  }
 },
 "nbformat": 4,
 "nbformat_minor": 4
}
