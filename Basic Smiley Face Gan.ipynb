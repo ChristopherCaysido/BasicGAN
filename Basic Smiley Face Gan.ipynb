{
 "cells": [
  {
   "cell_type": "code",
   "execution_count": 5,
   "metadata": {},
   "outputs": [
    {
     "data": {
      "image/png": "[encoded data removed]",
      "text/plain": [
       "<Figure size 720x720 with 4 Axes>"
      ]
     },
     "metadata": {
      "needs_background": "light"
     },
     "output_type": "display_data"
    }
   ],
   "source": [
    "#Process of Creating a simple GAN\n",
    "#Scenario:\n",
    "#We want to generate a sad face 5x5 matrix\n",
    "import numpy as np\n",
    "from numpy import random\n",
    "from matplotlib import pyplot as plt\n",
    "\n",
    "#Plotting Function\n",
    "def view_samples(samples,m,n):\n",
    "    fig, axes = plt.subplots(figsize=(10,10), nrows=m, ncols=n, sharey=True, sharex=True)\n",
    "    for ax, img in zip(axes.flatten(),samples):\n",
    "        ax.xaxis.set_visible(False)\n",
    "        ax.yaxis.set_visible(False)\n",
    "        im = ax.imshow(1-img.reshape((5,5)), cmap='Greys_r')\n",
    "    return fig, axes\n",
    "\n",
    "faces = [np.array([0,0,0,0,0,\n",
    "                   0,1,0,1,0,\n",
    "                   0,0,0,0,0,\n",
    "                   0,1,1,1,0,\n",
    "                   1,0,0,0,1]),\n",
    "         np.array([0,0,0.10,0,0,\n",
    "                   0.1,1,0,1,0.1,\n",
    "                   0,0,0,0,0,\n",
    "                   0.1,1,1,1,0.1,\n",
    "                   1,0.1,0.1,0.1,1]),\n",
    "         np.array([0,0.2,0,0.2,0,\n",
    "                   0.2,1,0,1,0.2,\n",
    "                   0,0,0,0,0,\n",
    "                   0.2,1,1,1,0,\n",
    "                   1,0.2,0.2,0.2,1]),\n",
    "         np.array([0,0,0,0,0,\n",
    "                   0,1,0,1,0,\n",
    "                   0,0,0,0,0,\n",
    "                   0.4,1,1,1,0.4,\n",
    "                   1,0,0,0,1])]\n",
    "\n",
    "_ = view_samples(faces, 1,4)"
   ]
  },
  {
   "cell_type": "code",
   "execution_count": 6,
   "metadata": {},
   "outputs": [
    {
     "data": {
      "image/png": "[encoded data removed]",
      "text/plain": [
       "<Figure size 720x720 with 20 Axes>"
      ]
     },
     "metadata": {
      "needs_background": "light"
     },
     "output_type": "display_data"
    }
   ],
   "source": [
    "noise = [np.random.randn(5,5) for i in range(20)]\n",
    "def generate_noise():\n",
    "    return [np.random.random(), np.random.random(), np.random.random(), np.random.random()]\n",
    "\n",
    "_ = view_samples(noise, 5,4)"
   ]
  },
  {
   "cell_type": "code",
   "execution_count": 7,
   "metadata": {},
   "outputs": [],
   "source": [
    "def sigmoid(x):\n",
    "    return np.exp(x)/(1.0+np.exp(x))"
   ]
  },
  {
   "cell_type": "code",
   "execution_count": 15,
   "metadata": {},
   "outputs": [],
   "source": [
    "class Discriminator():\n",
    "    def __init__(self):\n",
    "        #self.weights = np.array([0.0 for i in range(4)])\n",
    "        #self.bias = 0.0\n",
    "        self.weights = np.array([np.random.normal() for i in range(25)])\n",
    "        self.bias = np.random.normal()\n",
    "    \n",
    "    def forward(self, x):\n",
    "        # Forward pass\n",
    "        return sigmoid(np.dot(x, self.weights) + self.bias)\n",
    "    \n",
    "    def error_from_image(self, image):\n",
    "        prediction = self.forward(image)\n",
    "        # We want the prediction to be 1, so the error is -log(prediction)\n",
    "        return -np.log(prediction)\n",
    "    \n",
    "    def derivatives_from_image(self, image):\n",
    "        prediction = self.forward(image)\n",
    "        derivatives_weights = -image * (1-prediction)\n",
    "        derivative_bias = -(1-prediction)\n",
    "        return derivatives_weights, derivative_bias\n",
    "    \n",
    "    def update_from_image(self, x):\n",
    "        ders = self.derivatives_from_image(x)\n",
    "        self.weights -= learning_rate * ders[0]\n",
    "        self.bias -= learning_rate * ders[1]\n",
    "\n",
    "    def error_from_noise(self, noise):\n",
    "        prediction = self.forward(noise)\n",
    "        # We want the prediction to be 0, so the error is -log(1-prediction)\n",
    "        return -np.log(1-prediction)\n",
    "    \n",
    "    def derivatives_from_noise(self, noise):\n",
    "        prediction = self.forward(noise)\n",
    "        derivatives_weights = noise * prediction\n",
    "        derivative_bias = prediction\n",
    "        return derivatives_weights, derivative_bias\n",
    "    \n",
    "    def update_from_noise(self, noise):\n",
    "        ders = self.derivatives_from_noise(noise)\n",
    "        self.weights -= learning_rate * ders[0]\n",
    "        self.bias -= learning_rate * ders[1]"
   ]
  },
  {
   "cell_type": "code",
   "execution_count": 17,
   "metadata": {},
   "outputs": [],
   "source": [
    "class Generator():\n",
    "    def __init__(self):\n",
    "        self.weights = np.array([np.random.normal() for i in range(25)])\n",
    "        self.biases = np.array([np.random.normal() for i in range(25)])\n",
    "\n",
    "    def forward(self, z):\n",
    "        # Forward pass\n",
    "        return sigmoid(z * self.weights + self.biases)\n",
    "\n",
    "    def error(self, z, discriminator):\n",
    "        x = self.forward(z)\n",
    "        # We want the prediction to be 0, so the error is -log(1-prediction)\n",
    "        y = discriminator.forward(x)\n",
    "        return -np.log(y)\n",
    "\n",
    "    def derivatives(self, z, discriminator):\n",
    "        discriminator_weights = discriminator.weights\n",
    "        discriminator_bias = discriminator.bias\n",
    "        x = self.forward(z)\n",
    "        y = discriminator.forward(x)\n",
    "        factor = -(1-y) * discriminator_weights * x *(1-x)\n",
    "        derivatives_weights = factor * z\n",
    "        derivative_bias = factor\n",
    "        return derivatives_weights, derivative_bias\n",
    "\n",
    "    def update(self, z, discriminator):\n",
    "        error_before = self.error(z, discriminator)\n",
    "        ders = self.derivatives(z, discriminator)\n",
    "        self.weights -= learning_rate * ders[0]\n",
    "        self.biases -= learning_rate * ders[1]\n",
    "        error_after = self.error(z, discriminator)"
   ]
  },
  {
   "cell_type": "code",
   "execution_count": 18,
   "metadata": {},
   "outputs": [],
   "source": [
    "# Set random seed\n",
    "np.random.seed(42)\n",
    "\n",
    "# Hyperparameters\n",
    "learning_rate = 0.01\n",
    "epochs = 1000\n",
    "\n",
    "# The GAN\n",
    "D = Discriminator()\n",
    "G = Generator()\n",
    "\n",
    "# For the error plot\n",
    "errors_discriminator = []\n",
    "errors_generator = []\n",
    "\n",
    "for epoch in range(epochs):\n",
    "    \n",
    "    for face in faces:\n",
    "        \n",
    "        # Update the discriminator weights from the real face\n",
    "        D.update_from_image(face)\n",
    "    \n",
    "        # Pick a random number to generate a fake face\n",
    "        z = random.rand()\n",
    "\n",
    "        # Calculate the discriminator error\n",
    "        errors_discriminator.append(sum(D.error_from_image(face) + D.error_from_noise(z)))\n",
    "        \n",
    "        # Calculate the generator error\n",
    "        errors_generator.append(G.error(z, D))\n",
    "        \n",
    "        # Build a fake face\n",
    "        noise = G.forward(z)\n",
    "        \n",
    "        # Update the discriminator weights from the fake face\n",
    "        D.update_from_noise(noise)\n",
    "    \n",
    "        # Update the generator weights from the fake face\n",
    "        G.update(z, D)"
   ]
  },
  {
   "cell_type": "code",
   "execution_count": 19,
   "metadata": {},
   "outputs": [
    {
     "data": {
      "image/png": "[encoded data removed]",
      "text/plain": [
       "<Figure size 432x288 with 1 Axes>"
      ]
     },
     "metadata": {
      "needs_background": "light"
     },
     "output_type": "display_data"
    },
    {
     "data": {
      "text/plain": [
       "Text(0.5, 1.0, 'Discriminator error function')"
      ]
     },
     "execution_count": 19,
     "metadata": {},
     "output_type": "execute_result"
    },
    {
     "data": {
      "image/png": "[encoded data removed]",
      "text/plain": [
       "<Figure size 432x288 with 1 Axes>"
      ]
     },
     "metadata": {
      "needs_background": "light"
     },
     "output_type": "display_data"
    }
   ],
   "source": [
    "import matplotlib.pyplot as plt\n",
    "plt.plot(errors_generator)\n",
    "plt.title(\"Generator error function\")\n",
    "plt.legend(\"gen\")\n",
    "plt.show()\n",
    "plt.plot(errors_discriminator)\n",
    "plt.legend('disc')\n",
    "plt.title(\"Discriminator error function\")"
   ]
  },
  {
   "cell_type": "code",
   "execution_count": 20,
   "metadata": {},
   "outputs": [
    {
     "name": "stdout",
     "output_type": "stream",
     "text": [
      "[0.07130923 0.05106711 0.0523032  0.05150151 0.03860457 0.03360153\n",
      " 0.9538035  0.05839591 0.80600387 0.10907597 0.03398322 0.04697474\n",
      " 0.08159732 0.0182529  0.01749917 0.06353007 0.89643691 0.82515589\n",
      " 0.9341272  0.03288046 0.95603227 0.0387993  0.03783266 0.02058468\n",
      " 0.83688052]\n",
      "[0.10390825 0.05805313 0.07748758 0.07442502 0.06070644 0.03020691\n",
      " 0.93832786 0.09018296 0.77255372 0.15215262 0.04307745 0.07864809\n",
      " 0.11427775 0.02666325 0.02432494 0.0772372  0.88966616 0.81659554\n",
      " 0.93375349 0.05129551 0.95337018 0.04241377 0.05335622 0.03229927\n",
      " 0.8178577 ]\n",
      "[0.03795253 0.04143604 0.02723814 0.02798697 0.01827205 0.03987644\n",
      " 0.97127317 0.02825139 0.85191935 0.06191844 0.02307391 0.01989331\n",
      " 0.04637234 0.00984242 0.01023851 0.04608601 0.90660015 0.83831587\n",
      " 0.93472684 0.0158127  0.96002915 0.03357665 0.0215042  0.00985693\n",
      " 0.86419234]\n",
      "[0.05383279 0.04649416 0.03907474 0.03921001 0.02762169 0.03629864\n",
      " 0.96265785 0.04223408 0.82789271 0.08484121 0.02856341 0.03200233\n",
      " 0.06343782 0.01383163 0.01375451 0.05502295 0.90112769 0.83118149\n",
      " 0.93439776 0.02368706 0.95787658 0.03635826 0.02937236 0.0147917\n",
      " 0.849686  ]\n"
     ]
    },
    {
     "data": {
      "image/png": "[encoded data removed]",
      "text/plain": [
       "<Figure size 720x720 with 4 Axes>"
      ]
     },
     "metadata": {
      "needs_background": "light"
     },
     "output_type": "display_data"
    }
   ],
   "source": [
    "generated_images = []\n",
    "for i in range(4):\n",
    "    z = random.random()\n",
    "    generated_image = G.forward(z)\n",
    "    generated_images.append(generated_image)\n",
    "_ = view_samples(generated_images, 1, 4)\n",
    "for i in generated_images:\n",
    "    print(i)"
   ]
  },
  {
   "cell_type": "code",
   "execution_count": 21,
   "metadata": {},
   "outputs": [
    {
     "name": "stdout",
     "output_type": "stream",
     "text": [
      "Generator weights [-1.78649875 -0.58770732 -1.82020871 -1.70168684 -2.0626604   0.47675993\n",
      "  1.32307931 -2.03231932  0.87311873 -1.65727277 -1.06870131 -2.38005655\n",
      " -1.61683737 -1.67966828 -1.45757503 -0.91060795  0.30732235  0.25235205\n",
      "  0.02625226 -2.01070821  0.26685022 -0.40235158 -1.5605635  -2.00455771\n",
      "  0.57770053]\n",
      "Generator biases [-2.10477648 -2.77022129 -2.42628631 -2.47322723 -2.6816286  -3.48229084\n",
      "  2.68541644 -2.25479832  1.19846915 -1.67165776 -3.07095703 -2.39456874\n",
      " -2.00273898 -3.55066149 -3.6510308  -2.45512857  2.07877597  1.48642146\n",
      "  2.64509843 -2.86149141  3.0103306  -3.10573622 -2.83246717 -3.34404687\n",
      "  1.48580985]\n"
     ]
    }
   ],
   "source": [
    "print(\"Generator weights\", G.weights)\n",
    "print(\"Generator biases\", G.biases)"
   ]
  },
  {
   "cell_type": "code",
   "execution_count": 22,
   "metadata": {},
   "outputs": [
    {
     "name": "stdout",
     "output_type": "stream",
     "text": [
      "Discriminator weights [-1.42213352 -0.80624207 -1.65996911 -2.1677029  -1.80482831 -0.86041162\n",
      " -0.16064718 -1.75409444  1.16748874 -0.83404631 -1.6234295  -1.08182609\n",
      " -0.98483183 -2.72323439 -2.9380151  -0.04962607  1.30520728 -0.162779\n",
      "  1.00990501 -1.05378272 -0.51272354 -0.930205   -1.50131303 -0.63850664\n",
      "  0.96627987]\n",
      "Discriminator bias -2.5147324016794808\n"
     ]
    }
   ],
   "source": [
    "print(\"Discriminator weights\", D.weights)\n",
    "print(\"Discriminator bias\", D.bias)"
   ]
  },
  {
   "cell_type": "code",
   "execution_count": null,
   "metadata": {},
   "outputs": [],
   "source": []
  }
 ],
 "metadata": {
  "kernelspec": {
   "display_name": "Python 3",
   "language": "python",
   "name": "python3"
  },
  "language_info": {
   "codemirror_mode": {
    "name": "ipython",
    "version": 3
   },
   "file_extension": ".py",
   "mimetype": "text/x-python",
   "name": "python",
   "nbconvert_exporter": "python",
   "pygments_lexer": "ipython3",
   "version": "3.8.3"
  }
 },
 "nbformat": 4,
 "nbformat_minor": 4
}
